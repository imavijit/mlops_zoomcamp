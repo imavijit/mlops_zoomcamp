{
 "cells": [
  {
   "cell_type": "markdown",
   "metadata": {},
   "source": [
    "#### Q1. MLflow version"
   ]
  },
  {
   "cell_type": "code",
   "execution_count": 3,
   "metadata": {},
   "outputs": [
    {
     "name": "stdout",
     "output_type": "stream",
     "text": [
      "1.26.0\n"
     ]
    }
   ],
   "source": [
    "import mlflow\n",
    "print(mlflow.__version__)"
   ]
  },
  {
   "cell_type": "markdown",
   "metadata": {},
   "source": [
    "#### Q.2 Solution Command:\n",
    "python preprocess_data.py --raw_data_path /home/avijit/Desktop/Codes/mlops/Coursework/notebooks/data --dest_path ./output/\n",
    "\n",
    "This saves 4 files in the output folder which are : 1.dv.pkl ,  2.train.pkl,   3.test.pkl,   4. valid.pkl"
   ]
  },
  {
   "cell_type": "code",
   "execution_count": 9,
   "metadata": {},
   "outputs": [],
   "source": [
    "! python preprocess_data.py --raw_data_path /home/avijit/Desktop/Codes/mlops/Coursework/notebooks/data --dest_path ./output/"
   ]
  },
  {
   "cell_type": "code",
   "execution_count": 14,
   "metadata": {},
   "outputs": [
    {
     "name": "stdout",
     "output_type": "stream",
     "text": [
      "dv.pkl\ttest.pkl  train.pkl  valid.pkl\n"
     ]
    }
   ],
   "source": [
    "! ls ~/Desktop/Codes/mlops/Coursework/notebooks/homework/output"
   ]
  },
  {
   "cell_type": "markdown",
   "metadata": {},
   "source": [
    "#### Q.3Train a model with autolog\n",
    "How many parameters are automatically logged by MLflow?"
   ]
  },
  {
   "cell_type": "code",
   "execution_count": 19,
   "metadata": {},
   "outputs": [
    {
     "name": "stdout",
     "output_type": "stream",
     "text": [
      "2022/05/31 00:10:42 WARNING mlflow.utils.autologging_utils: You are using an unsupported version of sklearn. If you encounter errors during autologging, try upgrading / downgrading sklearn to a supported version, or try upgrading MLflow.\n",
      "2022/05/31 00:11:28 WARNING mlflow.utils.autologging_utils: MLflow autologging encountered a warning: \"/home/avijit/anaconda3/envs/exp-tracking-env/lib/python3.9/site-packages/_distutils_hack/__init__.py:30: UserWarning: Setuptools is replacing distutils.\"\n"
     ]
    }
   ],
   "source": [
    "! python train.py --data_path ~/Desktop/Codes/mlops/Coursework/notebooks/homework/output"
   ]
  },
  {
   "cell_type": "markdown",
   "metadata": {},
   "source": [
    "Ans: 17 Parameters were stored. Which are\n",
    "\n",
    "Name\t            Value <br>\n",
    "1.bootstrap\t         True<br>\n",
    "2.ccp_alpha\t         0.0<br>\n",
    "3.criterion\t         squared_error<br>\n",
    "4.max_depth\t         10<br>\n",
    "5.max_features\t     1.0<br>\n",
    "6.max_leaf_nodes\t     None<br>\n",
    "7.max_samples\tNone<br>\n",
    "8.min_impurity_decrease\t0.0<br>\n",
    "9.min_samples_leaf\t1<br>\n",
    "10.min_samples_split\t2<br>\n",
    "11.min_weight_fraction_leaf\t0.0<br>\n",
    "12.n_estimators\t100<br>\n",
    "13.n_jobs\tNone<br>\n",
    "14.oob_score\tFalse<br>\n",
    "15.random_state\t0<br>\n",
    "16.verbose\t0<br>\n",
    "17.warm_start\tFalse<br>"
   ]
  },
  {
   "cell_type": "markdown",
   "metadata": {},
   "source": [
    "#### Q4. Launching the tracking server locally"
   ]
  },
  {
   "cell_type": "markdown",
   "metadata": {},
   "source": [
    "Ans: default-artifact-root"
   ]
  },
  {
   "cell_type": "code",
   "execution_count": 23,
   "metadata": {},
   "outputs": [
    {
     "name": "stdout",
     "output_type": "stream",
     "text": [
      "[2022-05-31 02:12:26 +0530] [27631] [INFO] Starting gunicorn 20.1.0\n",
      "[2022-05-31 02:12:26 +0530] [27631] [INFO] Listening at: http://127.0.0.1:5000 (27631)\n",
      "[2022-05-31 02:12:26 +0530] [27631] [INFO] Using worker: sync\n",
      "[2022-05-31 02:12:26 +0530] [27632] [INFO] Booting worker with pid: 27632\n",
      "^C\n",
      "[2022-05-31 02:12:51 +0530] [27631] [INFO] Handling signal: int\n",
      "[2022-05-31 02:12:51 +0530] [27632] [INFO] Worker exiting (pid: 27632)\n"
     ]
    }
   ],
   "source": [
    "! mlflow ui --backend-store-uri sqlite:///mlflow_hw.db --default-artifact-root ~/Notebooks/week02/artifacts"
   ]
  },
  {
   "cell_type": "markdown",
   "metadata": {},
   "source": [
    "#### Q5. Tuning the hyperparameter of the model"
   ]
  },
  {
   "cell_type": "code",
   "execution_count": 24,
   "metadata": {},
   "outputs": [
    {
     "name": "stdout",
     "output_type": "stream",
     "text": [
      "2022/05/31 02:20:53 INFO mlflow.tracking.fluent: Experiment with name 'random-forest-hyperopt' does not exist. Creating a new experiment.\n",
      "100%|█████████| 50/50 [11:17<00:00, 13.55s/trial, best loss: 6.6284257482044735]\n"
     ]
    }
   ],
   "source": [
    "! python hpo.py "
   ]
  },
  {
   "cell_type": "markdown",
   "metadata": {},
   "source": [
    "Ans: Best Validation RMSE: 6.628"
   ]
  },
  {
   "cell_type": "markdown",
   "metadata": {},
   "source": [
    "#### Q6. Promoting best model to model registry"
   ]
  },
  {
   "cell_type": "code",
   "execution_count": 26,
   "metadata": {},
   "outputs": [
    {
     "name": "stdout",
     "output_type": "stream",
     "text": [
      "2022/05/31 02:52:19 WARNING mlflow.utils.autologging_utils: You are using an unsupported version of sklearn. If you encounter errors during autologging, try upgrading / downgrading sklearn to a supported version, or try upgrading MLflow.\n",
      "2022/05/31 02:52:49 WARNING mlflow.utils.autologging_utils: MLflow autologging encountered a warning: \"/home/avijit/anaconda3/envs/exp-tracking-env/lib/python3.9/site-packages/_distutils_hack/__init__.py:30: UserWarning: Setuptools is replacing distutils.\"\n",
      "Model to be registered\n",
      "Run id: 0108647402c84b518d07d5c6e049c14a, test_rmse: 6.5479\n",
      "Successfully registered model 'EXPERIMENT_NAME'.\n",
      "2022/05/31 02:54:42 INFO mlflow.tracking._model_registry.client: Waiting up to 300 seconds for model version to finish creation.                     Model name: EXPERIMENT_NAME, version 1\n",
      "Created version '1' of model 'EXPERIMENT_NAME'.\n"
     ]
    }
   ],
   "source": [
    "! python register_model.py"
   ]
  },
  {
   "cell_type": "markdown",
   "metadata": {},
   "source": [
    "Ans: Test RMSE On Best Model : 6.55"
   ]
  }
 ],
 "metadata": {
  "interpreter": {
   "hash": "9e43166821d02579ccd035ea3259dfabe61ab0357124ad21c13bbde6a7f44dca"
  },
  "kernelspec": {
   "display_name": "Python 3.9.12 ('exp-tracking-env')",
   "language": "python",
   "name": "python3"
  },
  "language_info": {
   "codemirror_mode": {
    "name": "ipython",
    "version": 3
   },
   "file_extension": ".py",
   "mimetype": "text/x-python",
   "name": "python",
   "nbconvert_exporter": "python",
   "pygments_lexer": "ipython3",
   "version": "3.9.12"
  },
  "orig_nbformat": 4
 },
 "nbformat": 4,
 "nbformat_minor": 2
}
